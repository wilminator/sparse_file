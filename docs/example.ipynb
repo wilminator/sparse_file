{
    "cells": [
        {
            "cell_type": "markdown",
            "metadata": {},
            "source": [
                "# Example usage\n",
                "\n",
                "To use `sparsefile` in a project:"
            ]
        },
        {
            "cell_type": "code",
            "execution_count": null,
            "metadata": {},
            "outputs": [],
            "source": [
                "from sparsefile import open_sparse\n",
                "\n",
                "# Open the file for read and write. Use 'r+b' for files with data that you do not want to delete.\n",
                "file = open_sparse('sparse.bin', 'w+b')\n",
                "# Put data onto the disk. 1MB should suffice.\n",
                "file.write(b'\\x01' * 0x100000)\n",
                "file.flush()\n",
                "# Check the current size\n",
                "print (file.size_on_disk()) #1048576\n",
                "# Poke a hole in the file.\n",
                "start = 0x040000 # Start at 256KB.\n",
                "length = 0x020000 # Make the hole 128KB in size.\n",
                "file.hole(start, length)\n",
                "# Check the new size\n",
                "print (file.size_on_disk()) # 917504"
            ]
        }
    ],
    "metadata": {
        "kernelspec": {
            "display_name": "Python 3",
            "language": "python",
            "name": "python3"
        },
        "language_info": {
            "codemirror_mode": {
                "name": "ipython",
                "version": 3
            },
            "file_extension": ".py",
            "mimetype": "text/x-python",
            "name": "python",
            "nbconvert_exporter": "python",
            "pygments_lexer": "ipython3",
            "version": "3.8.5"
        }
    },
    "nbformat": 4,
    "nbformat_minor": 4
}
